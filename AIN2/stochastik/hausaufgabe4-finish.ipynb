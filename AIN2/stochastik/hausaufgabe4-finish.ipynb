{
 "cells": [
  {
   "cell_type": "markdown",
   "metadata": {},
   "source": [
    "# Hausaufgabe 4\n",
    "\n",
    "\n",
    "### 2.3\n",
    "#### 2.3.1\n",
    "P(er bekommt die Frage) = 1/28\n",
    "#### 2.3.2\n",
    "P(sie bekommt eine Frage) = 1 - P(sie bekommt keine Frage) = 1 - 2/56 = 54/56 = 27/28\n",
    "\n",
    "### 2.7\n",
    "a) P(Einwohner ließt beide) = P(A) + P(B) - P(A u B) = 0.2\n",
    "\n",
    "b) P(Einwohner ließt keine) = 1 - P(Einwohner ließt mindestens eine) = 1 - 0.9 = 0.1\n",
    "\n",
    "c) P(Einwohner ließt nur 1) = 1 - P(Einwohner ließt beide) - P(Einwohner ließt keine) = 1 - 0.1 - 0.2 = 0.7\n",
    "\n",
    "### 2.11\n",
    "#### 2.11.1\n",
    "P(N_N) = 16^10\n"
   ]
  },
  {
   "cell_type": "code",
   "execution_count": 16,
   "metadata": {},
   "outputs": [
    {
     "name": "stdout",
     "output_type": "stream",
     "text": [
      "1099511627776\n"
     ]
    }
   ],
   "source": [
    "print(16**10)"
   ]
  },
  {
   "cell_type": "markdown",
   "metadata": {},
   "source": [
    "P(N_C) = 16^5"
   ]
  },
  {
   "cell_type": "code",
   "execution_count": 17,
   "metadata": {},
   "outputs": [
    {
     "name": "stdout",
     "output_type": "stream",
     "text": [
      "1048576\n"
     ]
    }
   ],
   "source": [
    "print(16**5)"
   ]
  },
  {
   "cell_type": "markdown",
   "metadata": {},
   "source": [
    "P(Z) = (10/16)^5"
   ]
  },
  {
   "cell_type": "code",
   "execution_count": null,
   "metadata": {},
   "outputs": [
    {
     "name": "stdout",
     "output_type": "stream",
     "text": [
      "0.007415771484375\n"
     ]
    }
   ],
   "source": [
    "print((10/16)**5)"
   ]
  },
  {
   "cell_type": "markdown",
   "metadata": {},
   "source": [
    "#### 2.11.2\n",
    "a) P(G) = (1/(16^5))^2"
   ]
  },
  {
   "cell_type": "code",
   "execution_count": null,
   "metadata": {},
   "outputs": [
    {
     "name": "stdout",
     "output_type": "stream",
     "text": [
      "9.094947017729282e-13\n"
     ]
    }
   ],
   "source": [
    "print((1/(16**5))**2)"
   ]
  },
  {
   "cell_type": "markdown",
   "metadata": {},
   "source": [
    "b) Bei der geringen Wahrscheinlichkeit ist eine Umstellung nicht gerechtfertigt.\n",
    "\n",
    "### 2.13\n",
    "a) Anzahl der Möglichen Passwörter:"
   ]
  },
  {
   "cell_type": "code",
   "execution_count": null,
   "metadata": {},
   "outputs": [
    {
     "name": "stdout",
     "output_type": "stream",
     "text": [
      "916132832\n"
     ]
    }
   ],
   "source": [
    "print(62**5)"
   ]
  },
  {
   "cell_type": "markdown",
   "metadata": {},
   "source": [
    "b) Berechnung des Passwortes erfolgte mit folgendem Rustprogramm:\n",
    "```rust\n",
    "//! # Statistik Hausaufgabe 4 Aufgabe 2.13\n",
    "//! Authoren: Fabian Wolter, Dominik Nowara, Selin Kabak\n",
    "//!\n",
    "//! Aufgabe ist es die ursprüngliche Zeichenfolge aus einem\n",
    "//! gegebenen SHA1 Hash herauszufinden.\n",
    "//! Wir wissen, dass die Zeichenfolge aus fünf Zeichen,\n",
    "//! welche nur aus den üblichen Groß- und Kleinbuchstaben,\n",
    "//! wie den Ziffern 0-9 gewählt wurden, besteht.\n",
    "\n",
    "use hex_literal::hex;\n",
    "use sha1::{Digest, Sha1};\n",
    "use std::process::exit;\n",
    "use std::time::Instant;\n",
    "\n",
    "fn main() {\n",
    "    // Zeichensatz des zu kackenden Passworts\n",
    "    let char_set = \"1234567890abcdefghijklmnopqrstuvwxyzABCDEFGHIJKLMNOPQRSTUVWXYZ\";\n",
    "    // Der Hash des Passworts als Byte-Array\n",
    "    let to_crack = hex!(\"4ad1926be45241079b7182a214a532d1aa62512b\");\n",
    "    // Zählvariable, welche die Anzahl der Versuche zählt\n",
    "    let mut versuche = 0;\n",
    "\n",
    "    // Um später herauszufinden, wie lange es gebraucht hat, speichern wir uns die jetzige Zeit\n",
    "    let now = Instant::now();\n",
    "    // 'hasher' rechnet uns später den SHA1 Hash\n",
    "    let mut hasher = Sha1::new();\n",
    "\n",
    "    // Hier laufen wir ein Zeichen nach dem Anderen durch den gesamten Zeichensatz\n",
    "    for i in 0..62 {\n",
    "        for j in 0..62 {\n",
    "            for k in 0..62 {\n",
    "                for l in 0..62 {\n",
    "                    for m in 0..62 {\n",
    "                        versuche += 1;\n",
    "                        // Wir bilden ein Byte-Slice aus dem Zeichensatz\n",
    "                        // und unserem aktuellen Schleifendurchlauf...\n",
    "                        let s = &[\n",
    "                            char_set.bytes().nth(i).unwrap(),\n",
    "                            char_set.bytes().nth(j).unwrap(),\n",
    "                            char_set.bytes().nth(k).unwrap(),\n",
    "                            char_set.bytes().nth(l).unwrap(),\n",
    "                            char_set.bytes().nth(m).unwrap(),\n",
    "                        ];\n",
    "                        // ...übergeben das Slice an den Hasher...\n",
    "                        hasher.update(s);\n",
    "                        // ...und lassen uns den Hash ausrechnen.\n",
    "                        let result = hasher.clone().finalize();\n",
    "                        // Falls der berechnete Hash dem Gegebenen übereinstimmt...\n",
    "                        if result[..] == to_crack {\n",
    "                            // ...stoppen wir die Zeit...\n",
    "                            let elapsed = now.elapsed();\n",
    "                            // ...und geben das berechnete Passwort...\n",
    "                            println!(\"Passwort: {}\", std::str::from_utf8(s).unwrap());\n",
    "                            // ...sowie die gebrauchte Zeit und die Anzahl der Versuche aus...\n",
    "                            println!(\n",
    "                                \"Das Passwort zu knacken brauchte {} Millisekunden und {} Versuche.\",\n",
    "                                elapsed.as_millis(),\n",
    "                                versuche\n",
    "                            );\n",
    "                            // ...und beenden das Programm.\n",
    "                            exit(0);\n",
    "                        }\n",
    "                        // Falls nicht, muss der Hasher neu erstellt werden.\n",
    "                        hasher = Sha1::new();\n",
    "                    }\n",
    "                }\n",
    "            }\n",
    "        }\n",
    "    }\n",
    "}\n",
    "```\n",
    "Ausgabe des Programms:\n",
    "```\n",
    "Passwort: 42AiN\n",
    "Das Passwort zu knacken brauchte 3228 Millisekunden und 44706886 Versuche.\n",
    "```\n",
    "### 3.1\n",
    "#### 3.1.\n",
    "P(>2) = P(1) + P(2) = 8% + 16% = 24%\n",
    "#### 3.1.2\n",
    "a) P(M->S) = P(M) * P(M&S) = 75% * 62% = "
   ]
  },
  {
   "cell_type": "code",
   "execution_count": null,
   "metadata": {},
   "outputs": [
    {
     "name": "stdout",
     "output_type": "stream",
     "text": [
      "46.5%\n"
     ]
    }
   ],
   "source": [
    "print(str(0.75*0.62*100) + \"%\")"
   ]
  },
  {
   "cell_type": "markdown",
   "metadata": {},
   "source": [
    "b) P(S->M) = P(S) * P(S&M) = 72% * 62% ="
   ]
  },
  {
   "cell_type": "code",
   "execution_count": null,
   "metadata": {},
   "outputs": [
    {
     "name": "stdout",
     "output_type": "stream",
     "text": [
      "44.63999999999999%\n"
     ]
    }
   ],
   "source": [
    "print(str(0.72*0.62*100) + \"%\")"
   ]
  },
  {
   "cell_type": "markdown",
   "metadata": {},
   "source": [
    "c) P(S->\\M) = P(S) * P(S&\\M) = 72% * 10% ="
   ]
  },
  {
   "cell_type": "code",
   "execution_count": null,
   "metadata": {},
   "outputs": [
    {
     "name": "stdout",
     "output_type": "stream",
     "text": [
      "7.199999999999999%\n"
     ]
    }
   ],
   "source": [
    "print(str(0.72*0.1*100) + \"%\")"
   ]
  }
 ],
 "metadata": {
  "kernelspec": {
   "display_name": "Python 3",
   "language": "python",
   "name": "python3"
  },
  "language_info": {
   "codemirror_mode": {
    "name": "ipython",
    "version": 3
   },
   "file_extension": ".py",
   "mimetype": "text/x-python",
   "name": "python",
   "nbconvert_exporter": "python",
   "pygments_lexer": "ipython3",
   "version": "3.12.0"
  }
 },
 "nbformat": 4,
 "nbformat_minor": 2
}
