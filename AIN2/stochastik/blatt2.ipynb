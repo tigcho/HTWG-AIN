{
  "metadata": {
    "kernelspec": {
      "name": "python",
      "display_name": "Python (Pyodide)",
      "language": "python"
    },
    "language_info": {
      "codemirror_mode": {
        "name": "python",
        "version": 3
      },
      "file_extension": ".py",
      "mimetype": "text/x-python",
      "name": "python",
      "nbconvert_exporter": "python",
      "pygments_lexer": "ipython3",
      "version": "3.8"
    }
  },
  "nbformat_minor": 5,
  "nbformat": 4,
  "cells": [
    {
      "id": "a57776457f245b68",
      "cell_type": "markdown",
      "source": "# Aufgabe 2.1\n## Teilaufgabe 2.1.1\na)\n$\\Omega$ = {1, 2, 3, 4, 5, 6, 7, 8, 9, 10} <br>\nb)\nNein, weil die 2 keine ungerade Zahl ist. <br>\nc) \nJa, weil die gemeinsame Menge die 2 ist. <br>\nd)\n!A = {gerade Zahlen}; !B = {alle außer die 2}; !C = {alle außer die 2 und 3} <br>\n\n## Teilaufgabe 2.1.2\na)\n$\\frac{1}{10}$ <br>\nb) \n$\\frac{1}{2}$ <br> \nc)\n$\\frac{8}{10}$ <br>\nd)\n$\\frac{2}{10}$ <br>\n\n## Teilaufgabe 2.1.3\nW10 zehnmal würfeln = 100 mögliche Fälle <br>\na)\nP(zweimal 5) = $\\frac{1}{100}$ <br>\nb)\n(1, 1), (1, 2), (1, 3), (1, 4), (1, 5), (1, 6), (1, 7), (1, 8), (1, 9), (1, 10), (2, 1), (3, 1), (4, 1), (5, 1), (6, 1), (7, 1), (8, 1), (9, 1), (10, 1) = 19 Fälle\nP(mind. eine 1) = $\\frac{19}{100}$ <br>\nc)\n(1, 3), (3, 1), (2, 2) = 3 Fälle <br>\nP(Summe = 4) = $\\frac{3}{100}$ <br>\nd)\n(10, 9), (9, 10), (10, 10) = 3 Fälle <br>\nP(Summe $\\geq$ 19) = $\\frac{3}{100}$ <br>\n\n# Aufgabe 2.2\n## Teilaufgabe 2.2.1\na)\nn = 7; k = 5\n$C^W(7, 5) = \\binom{7 + 5 - 1}{5} = \\frac{(7 + 5 - 1)!}{5!(7 - 1)}$ <br>\nb)\n$P^W(7, 5) = 7^5$ <br>\n\n## Teilaufgabe 2.2.2\na) \n$C(7, 5) = \\binom{7}{5}$ <br>\nb)\n$p(7, 5) = \\frac{7!}{(7 - 5)!}$\n",
      "metadata": {
        "collapsed": false,
        "jupyter": {
          "outputs_hidden": false
        }
      }
    },
    {
      "id": "1617574b9d6af40c",
      "cell_type": "code",
      "source": "from math import comb\nfrom math import factorial\nprint(comb(7+5-1, 5))\nprint(7**5)\nprint(comb(7, 5))\nprint(factorial(7) / factorial(2))\n",
      "metadata": {
        "collapsed": false,
        "ExecuteTime": {
          "end_time": "2023-12-30T14:25:10.960640126Z",
          "start_time": "2023-12-30T14:25:10.958203515Z"
        },
        "jupyter": {
          "outputs_hidden": false
        },
        "trusted": true
      },
      "outputs": [],
      "execution_count": null
    },
    {
      "id": "e715bd2b78320b51",
      "cell_type": "markdown",
      "source": "# Aufgabe 2.3\n## Teilaufgabe 2.3.1\nFür die erste Frage gibt es 8 Möglichkeiten, für die zweite nur noch 7.\nFalls seine vorbereitete Frage vorkommen sollte, geht das nur an erster oder zweiter Stelle.\n -   Fall 1: $\\frac{1}{8} \\cdot \\frac{7}{7} = \\frac{1}{8}$\n -   Fall 2: $\\frac{7}{8} \\cdot \\frac{1}{7} = \\frac{1}{8}$\nAlso: $\\frac{1}{8}$ + $\\frac{1}{8}$ = $\\frac{1}{4}$ <br>\n\n## Teilaufgabe 2.3.2\nSie hat sich auf zwei Fragen nicht vorbereitet, die an erster oder zweiter Stelle drankommen könnten.\n$\\frac{2}{8} \\cdot \\frac{1}{7} = \\frac{1}{28}$ <br>\nAlso: $1 - \\frac{1}{28} = \\frac{27}{28}$ <br>\n\n# Aufgabe 2.4\na) \n$\\frac{\\binom{6}{2}}{\\binom{14}{2}}$ ODER $\\frac{6}{14} \\cdot \\frac{5}{13}$ = 0.165<br>\nb)\n$\\frac{\\binom{8}{2}}{\\binom{14}{2}}$ ODER $\\frac{8}{14} \\cdot \\frac{7}{13}$ = 0.308 <br>\nc)\nP(verschiedene) = 1 - P(blau) + P(rot) = 1 - (0.165 + 0.308) = 0.527 <br>\nd)\nP(gleiche) = 1 - P(verschiedene) = 1 - 0.527 = 0.473 <br>\n\n# Aufgabe 2.5\na)\n$P(A) = \\frac{32}{32} \\cdot \\frac{24}{31} \\cdot \\frac{16}{30} \\cdot \\frac{8}{29} = 0.114$ <br>\nb)\n$P(B) = \\frac{8}{32} \\cdot \\frac{7}{31} \\cdot \\frac{6}{30} \\cdot \\frac{5}{29} = 0.002$ <br>\nc)\n$P(C) = \\frac{16}{32} \\cdot \\frac{15}{31} \\cdot \\frac{14}{30} \\cdot \\frac{13}{29} = 0.051$ <br>\nd)\n$P(D) = 1 - P(!D) = 1 - \\frac{24}{32} \\cdot \\frac{23}{31} \\cdot \\frac{22}{30} \\cdot \\frac{21}{29} = 0.704$ <br>\n\n# Aufgabe 2.6\n## Teilaufgabe 2.6.1\na)\n$\\binom{36}{5} = 376992$ <br>\nb)\n$5! = 120$ <br>\nc)\n$376992 \\cdot 120 = 45239040$ <br>\n\n## Teilaufgabe 2.6.2\na) \n$\\frac{1}{45239040} = 2.2105 \\cdot 10^{-8}$ <br>\nb)\n$\\frac{1}{120} = 0.008$ <br>\n\n# Aufgabe 2.7\na)\n$0.6 + 0.5 - 0.9 = 0.2$ <br>\nb)\n$1 - 0.9 = 0.1$ <br>\nc)\n$0.9 - 0.2 = 0.7$ <br>\n\n# Aufgabe 2.8\n## Teilaufgabe 2.8.1\na)\n$\\frac{20!}{(20 - 5)!} = 1860480$ <br>\nb)\n$\\binom{20}{5} = 15504$ <br>\n\n## Teilaufgabe 2.8.2\na)\nEs gibt 15 Autos. 9 davon werden in Raum 2 verteilt. Es verbleiben 6, die in Raum 3 verteilt sind. <br>\n$\\frac{15!}{6!} \\cdot 6! = 1.30767 \\cdot 10^{12}$ <br>\nb)\n$\\binom{15}{9} \\cdot \\binom{6}{6} = 5005$ <br>\n\n## Teilaufgabe 2.8.3\na)\nEs wird 1 Mercedes aus 10 gewählt, bleiben noch 4 aus 10 Nicht-Mercedes. <br>\nDas ergibt insgesamt 20 mögliche Autos, aus denen 5 gewählt werden.\n$\\frac{\\binom{10}{1} \\cdot \\binom{10}{4}}{\\binom{20}{5}}$ <br>\nb)\n1 Opel ganz links, es verbleiben 19 Andere random Autos, von denen 4 gewählt werden können.\n$\\frac{5 \\cdot \\frac{19!}{15!}}{\\frac{20!}{15!}}$ <br>\nc)\n2 BMW oder 3 VW sind wieder 5 Autos, die in der Mitte stehen sollen.\n$\\frac{5 \\cdot \\frac{19!}{15!}}{\\frac{20!}{15!}}$ <br>\n\n# Aufgabe 2.9\n## Teilaufgabe 2.9.1\na)\n$p^W = 26 \\cdot 10^2 \\cdot 26^3$ <br>\nb)\n$(26 + 26^2 + 26^3) \\cdot 26 \\cdot 10 \\cdot 9$ <br>\nc)\n$5 \\cdot 26 \\cdot 10 \\cdot 9 \\cdot 8 \\cdot 7$ <br>\n\n## Teilaufgabe 2.9.2\na)\n$\\frac{2 \\cdot 9}{100} + \\frac{1}{100}$ ODER $1 - \\frac{9 \\cdot 9}{100}$ <br>\nb)\n$\\frac{26^2 \\cdot 26 \\cdot 10 \\cdot 9}{(26 + 26^2 + 26^3) \\cdot 26 \\cdot 10 \\cdot 9}$ <br>\nc)\n\n\n",
      "metadata": {
        "collapsed": false,
        "jupyter": {
          "outputs_hidden": false
        }
      }
    },
    {
      "id": "e62e1230063314ad",
      "cell_type": "code",
      "source": "\n",
      "metadata": {
        "collapsed": false,
        "jupyter": {
          "outputs_hidden": false
        },
        "trusted": true
      },
      "outputs": [],
      "execution_count": null
    }
  ]
}