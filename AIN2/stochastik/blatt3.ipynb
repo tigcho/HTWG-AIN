{
  "metadata": {
    "kernelspec": {
      "name": "python",
      "display_name": "Python (Pyodide)",
      "language": "python"
    },
    "language_info": {
      "codemirror_mode": {
        "name": "ipython",
        "version": 2
      },
      "file_extension": ".py",
      "mimetype": "text/x-python",
      "name": "python",
      "nbconvert_exporter": "python",
      "pygments_lexer": "ipython2",
      "version": "2.7.6"
    }
  },
  "nbformat_minor": 5,
  "nbformat": 4,
  "cells": [
    {
      "id": "76ca79c22754857a",
      "cell_type": "markdown",
      "source": "# Aufgabe 3.1\n## Teilaufgabe 3.1.1\n$P(A \\cup B) = 0.16 + 0.8$ <br>\n\n## Teilaufgabe 3.1.2\n$\n\\begin{array}{|l|l|l|l|}\n    \\hline\n    \\multicolumn{4}{|c|}{\\text{Vierfeldertafel für S und M}} \\\\\n    \\hline\n    & S & \\neg S & \\tiny\\sum \\\\\n    \\hline\n    M & 62 & 13 & 75 \\\\\n    \\hline\n    \\neg M & 10 & 15 & 25 \\\\\n    \\hline\n    \\tiny\\sum & 72 & 28 & 100 \\\\\n\\end{array}\n$ <br>\na) \n$P(S|M) = \\frac{S \\cap M}{M} = \\frac{0.62}{0.75}$ <br>\nb) \n$P(M|S) = \\frac{S \\cap M}{S} = \\frac{0.62}{0.72}$ <br>\nc)\n$P(\\neg M|S) = \\frac{S \\cap \\neg M}{S} = \\frac{0.1}{0.72}$ <br>\n\n# Aufgabe 3.2\n## Teilaufgabe 3.2.1\n$P(L \\cup E) = P(L) + P(E) - P(L \\cap E) = 0.2 + 0.4 - (0.2 \\cdot 0.4)$ <br>\n\n## Teilaufgabe 3.2.2\na)\n$\\frac{2}{5}$ <br>\nb)\n$\\frac{2}{5} \\cdot \\frac{1}{4} + \\frac{3}{5} \\cdot \\frac{2}{4}$ <br>\nc)\n$\\frac{2}{5} \\cdot \\frac{3}{4} \\cdot \\frac{1}{3} + \\frac{3}{5} \\cdot \\frac{2}{4} \\cdot \\frac{1}{3}$ <br>\n\n# Aufgabe 3.3\nMit Zurücklegen, aber dafür nicht die selbe sondern die Kugel der anderen Farbe <br>\n$\\frac{4}{10} \\cdot \\frac{3}{10} + \\frac{6}{10} \\cdot \\frac{5}{10}$ <br>\n\n# Aufgabe 3.4\na)\n\n        S: Kunde ist Streber = 20%\n        T: Kunde ist Normalo = 50%\n        C: Kunde ist Chaot = 100% − P(Streber) − P(Normalos) = 30%\n        V|S: Streber verliert Kreditkarte = 1.5%\n        V|T: Normalo verliert Kreditkarte = 3%\n        V|C: Chaot verliert Kreditkarte = 5.5% <br>\nb)\n$P(V) = 0.015 \\cdot 0.2 + 0.03 \\cdot 0.5 + 0.055 \\cdot 0.3 = 0.0345$ <br>\nc)\n1. $\\frac{0.015 \\cdot 0.2}{0.0345}$\n2. $\\frac{0.03 \\cdot 0.5}{0.0345}$ \n3. $\\frac{0.055 \\cdot 0.3}{0.0345}$ <br>\n\n# Aufgabe 3.5\n$P(Z) = 0.03 \\cdot 0.4 + 0.05 \\cdot 0.35 + 0.01 \\cdot 0.25$ <br>\n\n# Aufgabe 3.6\n$\n\\begin{array}{|l|l|l|l|}\n    \\hline\n    \\multicolumn{4}{|c|}{\\text{Vierfeldertafel für V und N}} \\\\\n    \\hline\n    & V & \\neg V & \\tiny\\sum \\\\\n    \\hline\n    N & 45 & 25 & 70 \\\\\n    \\hline\n    \\neg N & 15 & 15 & 30 \\\\\n    \\hline\n    \\tiny\\sum & 60 & 40 & 100 \\\\\n\\end{array}\n$ <br>\na)\n$P(\\neg N | \\neg V) = \\frac{\\neg N \\cap \\neg V}{\\neg V} = \\frac{15}{40}$ <br>\nb)\n$P(N|V) = \\frac{N \\cap V}{V} = \\frac{45}{60}$ <br>\n\n# Aufgabe 3.7\n## Teilaufgabe 3.7.1\na)\n$20!$ <br>\nb)\n$10! \\cdot 2^{10}$ <br>\nc)\n$11! \\cdot 10!^2$\n\n## Teilaufgabe 3.7.2\na)\n<img src=\"https://i.imgur.com/CEgc2mL.jpg\" alt=\"Theater\" width=\"400\"/> <br>\n$E \\cdot 0.6 + J \\cdot 0.2 = 0.4$ <br>\n$E \\cdot 0.6 + (1 - E) \\cdot 0.2 = 0.4$ <br>\n$E \\cdot 0.6 + 0.2 - E \\cdot 0.2 = 0.4$ <br>\n$0.4 \\cdot E  = 0.2$ <br>\n$E = 0.5 => J = 0.5$ <br>\nb)\n$P(J|P) = \\frac{P(J \\cap P)}{P(P)}$ <br>\n= $\\frac{0.5 \\cdot 0.2}{0.4} = 0.25$ <br>\n\n# Aufgabe 3.8\na)\n- $0.9$\n- $0.1 \\cdot 0.75$\n- $0.1 \\cdot 0.25 \\cdot 0.5$ <br>\n\nb)\n$P(verlässt Fabrik) = 1 - (0.1 \\cdot 0.25 \\cdot 0.5)$ <br>\n\n# Aufgabe 3.9\na)\n- P(A) = 0.2 | P(D|A) = 0.04\n- P(B) = 0.3 | P(D|B) = 0.03\n- P(C) = 0.5 | P(D|C) = 0.01 <br>\n\nb)\n$P(D) = 0.2 \\cdot 0.04 + 0.3 \\cdot 0.03 + 0.5 \\cdot 0.01 = 0.022$ <br>\nc)\n$P(B|D) = \\frac{P(B) \\cdot P(D|B)}{P(D)} = \\frac{0.03 \\cdot 0.03}{0.022}$\n\n# Aufgabe 3.10\na)\n- P(I) = 0.0008 | P(+|I) = 0.999 | P(!+|I) = 0.001\n- P(!I) = 0.9992) | P(+|!I) = 0.001 | P(!+|!I) = 0.999 <br>\n\nb)\n$P(+) = 0.0008 \\cdot 0.999 + 0.9992 \\cdot 0.001 = 0.0018$ <br>\n$n_+ = 82000000 \\cdot 0.0018$ <br>\nc)\n$n_{r+} = 82000000 \\cdot 0.0008 \\cdot 0.999$ <br>\nd)\n$n_{f-} = 82000000 \\cdot 0.0008 \\cdot 0.001$ <br>\ne) \n$n_{f+} = 82000000 \\cdot 0.9992 \\cdot 0.001$ <br>\nf)\n$P(I|+) = \\frac{P(I) \\cdot P(+|I)}{P(I) \\cdot P(+|I) + P(\\neg I) \\cdot P(+|\\neg I)}$ <br>\n$= \\frac{0.0008 \\cdot 0.999}{0.0008 \\cdot 0.999 + 0.9992 \\cdot 0.001}$ <br>\ng)\n$P(\\neg I|\\neg +) = \\frac{P(\\neg I) \\cdot P(\\neg +|\\neg I)}{P(\\neg I) \\cdot P(\\neg +|\\neg I) + P(I) \\cdot P(\\neg +|I)}$ <br>\n$= \\frac{0.9992 \\cdot 0.999}{0.9992 \\cdot 0.999 + 0.0008 \\cdot 0.001}$ <br>\n\n# Aufgabe 3.12\na)\n- P(GB) = 0.1 | P(S|GB) = 0.4 | P(!S|GB) = 0.6\n- P(F) = 0.2 | P(S|F) = 0.3 | P(!S|F) = 0.7\n- P(D) = 0.7 | P(S|D) = 0.5 | P(!S|D) = 0.5 <br>\n\nb)\n$P(S) = 0.1 \\cdot 0.4 + 0.2 \\cdot 0.3 + 0.7 \\cdot 0.5 = 0.45$ <br>\nc)\n$P(D|S) = \\frac{0.7 \\cdot 0.5}{0.45}$ <br>\nd)\n$P(GB|\\neg S) = \\frac{P(GB) \\cdot P(\\neg S|GB)}{1 - 0.45} = \\frac{0.1 \\cdot 0.6}{0.55}$ <br>\n\n# Aufgabe 3.13\na) <img src=\"https://i.imgur.com/7Sgq4tk.jpg\" alt=\"Star Trek\" width=\"400\"/> <br>\nb)\n$P(T) = 0.06 \\cdot 0.89 + 0.94 \\cdot 0.03 = 0.0816$ <br>\nc)\n$P(\\neg T) = 1 - 0.0816 = 0.9184$ <br>\nd)\n$P(f+) = 0.94 \\cdot 0.03$ <br>\ne)\n$P(f-) = 0.06 \\cdot 0.11$ <br>\nf)\n$P(A|T) = \\frac{P(A) \\cdot P(T|A)}{P(T)} = \\frac{0.06 \\cdot 0.89}{0.0816}$ <br>\ng)\n$P(\\neg A|\\neg T) = \\frac{0.94 \\cdot 0.97}{0.9184}$\n",
      "metadata": {
        "collapsed": false,
        "jupyter": {
          "outputs_hidden": false
        }
      }
    },
    {
      "id": "c5b5a6b1d78aa4ab",
      "cell_type": "code",
      "source": "",
      "metadata": {
        "collapsed": false,
        "jupyter": {
          "outputs_hidden": false
        },
        "trusted": true
      },
      "outputs": [],
      "execution_count": null
    }
  ]
}