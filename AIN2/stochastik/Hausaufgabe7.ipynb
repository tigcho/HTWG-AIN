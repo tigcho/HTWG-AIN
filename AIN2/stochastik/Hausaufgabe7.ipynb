{
 "cells": [
  {
   "cell_type": "markdown",
   "source": [
    "# Aufgabe 5.9\n",
    "a) <br>\n",
    "$B\\thicksim Bin(10, 0.75)$ <br>\n",
    "$E\\thicksim geom(0.25)$ <br>\n",
    "$E[B] = n\\cdot p = 10\\cdot 0.75 = 7.5$ <br>\n",
    "$E[E] = \\frac{1}{p} = 4$ <br>\n",
    "b) <br>\n",
    "$P(X=5)=pq^{x-1} = 0.25\\cdot 0.75^4 \\thickapprox 0.08$ ODER"
   ],
   "metadata": {
    "collapsed": false
   },
   "id": "4409dfc42896c07c"
  },
  {
   "cell_type": "code",
   "outputs": [
    {
     "name": "stdout",
     "output_type": "stream",
     "text": [
      "P(X = 5) = 0.0791015625\n"
     ]
    }
   ],
   "source": [
    "from scipy.stats import geom\n",
    "print('P(X = 5) =', geom.pmf(5, 0.25))"
   ],
   "metadata": {
    "collapsed": false,
    "ExecuteTime": {
     "end_time": "2024-01-02T14:41:34.167218136Z",
     "start_time": "2024-01-02T14:41:34.126400338Z"
    }
   },
   "id": "c517e5307f4a18ec",
   "execution_count": 29
  },
  {
   "cell_type": "markdown",
   "source": [
    "c) <br>\n",
    "$P(X\\ge5)=1-P(X\\le4)=1-\\sum_{k=1}^4{10\\choose k}0.75^k\\cdot0.25^{10-k} = 0.98$ ODER"
   ],
   "metadata": {
    "collapsed": false
   },
   "id": "c4183de072b6db1a"
  },
  {
   "cell_type": "code",
   "outputs": [
    {
     "name": "stdout",
     "output_type": "stream",
     "text": [
      "P(mind. 5) = 0.9802722930908203\n"
     ]
    }
   ],
   "source": [
    "from scipy.stats import binom\n",
    "print('P(mind. 5) =', 1 - binom.cdf(4, 10, 0.75))"
   ],
   "metadata": {
    "collapsed": false,
    "ExecuteTime": {
     "end_time": "2024-01-02T15:22:51.311322456Z",
     "start_time": "2024-01-02T15:22:51.269257743Z"
    }
   },
   "id": "fe0c3552056a20b",
   "execution_count": 31
  },
  {
   "cell_type": "markdown",
   "source": [
    "d) <br>\n",
    "Ich glaub nicht <br>\n",
    "Dominik, begründe das mal\n",
    "e)"
   ],
   "metadata": {
    "collapsed": false
   },
   "id": "903616293024dc62"
  },
  {
   "cell_type": "code",
   "outputs": [
    {
     "name": "stdout",
     "output_type": "stream",
     "text": [
      "P(Fahrradbrücke <= 70) = 0.997029264481921\n",
      "P(Rheinbrücke <= 70) = 1.0\n",
      "P(Beide Bücken <= 70) = 0.5317305296811751\n"
     ]
    }
   ],
   "source": [
    "from scipy.stats import poisson, binom\n",
    "x = poisson.cdf(70, 50)\n",
    "print('P(Fahrradbrücke <= 70) =', x)\n",
    "x = poisson.cdf(70, 20)\n",
    "print('P(Rheinbrücke <= 70) =', x)\n",
    "x = poisson.cdf(70, 50+20)\n",
    "print('P(Beide Bücken <= 70) =', x)"
   ],
   "metadata": {
    "collapsed": false,
    "ExecuteTime": {
     "end_time": "2024-01-02T15:31:42.442511400Z",
     "start_time": "2024-01-02T15:31:42.437656977Z"
    }
   },
   "id": "ea650dfd36932105",
   "execution_count": 33
  },
  {
   "cell_type": "markdown",
   "source": [
    " # Aufgabe 5.10\n",
    " a) <br>\n",
    " $Z_1 \\thicksim Po(3.5)$ <br>\n",
    " $Z_2 \\thicksim geom(0.15)$ <br> \n",
    " $Z_3 \\thicksim Po(20 \\cdot 0.15)$ <br>\n",
    " b) <br>\n",
    " $P(Z_1 \\geq 1) = 1 - e^{-3.5} = 0,96$ ODER\n",
    " "
   ],
   "metadata": {
    "collapsed": false
   },
   "id": "74a0c3a46697531a"
  },
  {
   "cell_type": "code",
   "outputs": [
    {
     "name": "stdout",
     "output_type": "stream",
     "text": [
      "P(mind. einer) =  0.9698026165776815\n"
     ]
    }
   ],
   "source": [
    "from scipy.stats import poisson\n",
    "print('P(mind. einer) = ', 1 - poisson.pmf(0, 3.5))"
   ],
   "metadata": {
    "collapsed": false,
    "ExecuteTime": {
     "end_time": "2024-01-02T19:52:30.382641216Z",
     "start_time": "2024-01-02T19:52:30.158578207Z"
    }
   },
   "id": "701683722a71554d",
   "execution_count": 1
  },
  {
   "cell_type": "markdown",
   "source": [
    "c) <br>\n",
    "$P(Z_2 \\leq 3) = 1 - (1 - 0.15)^3 = 0.38$"
   ],
   "metadata": {
    "collapsed": false
   },
   "id": "b24d0980bd045d2"
  },
  {
   "cell_type": "code",
   "outputs": [
    {
     "name": "stdout",
     "output_type": "stream",
     "text": [
      "P(hoechstens 3) = 0.38587499999999997\n"
     ]
    }
   ],
   "source": [
    "from scipy.stats import geom\n",
    "print('P(hoechstens 3) =', geom.cdf(3, 0.15))"
   ],
   "metadata": {
    "collapsed": false,
    "ExecuteTime": {
     "end_time": "2024-01-03T19:53:46.855137013Z",
     "start_time": "2024-01-03T19:53:46.812762209Z"
    }
   },
   "id": "b0cb1c21e27fe7de",
   "execution_count": 4
  },
  {
   "cell_type": "markdown",
   "source": [
    "d) "
   ],
   "metadata": {
    "collapsed": false
   },
   "id": "92a156aa30c69de1"
  },
  {
   "cell_type": "code",
   "outputs": [
    {
     "name": "stdout",
     "output_type": "stream",
     "text": [
      "P(20 Stellen) = 7.135378768777153e-11\n",
      "P(20 Stellen) = 7.135378768777135e-11\n"
     ]
    }
   ],
   "source": [
    "from scipy.stats import poisson\n",
    "import math\n",
    "print('P(20 Stellen) =', poisson.pmf(20, 3))\n",
    "print('P(20 Stellen) =', math.exp(-3) * (3**20) / math.factorial(20))"
   ],
   "metadata": {
    "collapsed": false,
    "ExecuteTime": {
     "end_time": "2024-01-03T21:04:42.551380071Z",
     "start_time": "2024-01-03T21:04:42.544309226Z"
    }
   },
   "id": "d6c2526abe317adf",
   "execution_count": 13
  },
  {
   "cell_type": "markdown",
   "source": [
    "# Aufgabe 6.1\n",
    "## Teilaufgabe 6.1.1\n",
    "$\n",
    "F(X) =\n",
    "\\begin{cases}\n",
    "    0 &\\quad \\text{if  }x < 0 \\\\\n",
    "    &\\\\\n",
    "    \\frac{1}{4}x^2 &\\quad \\text{if  }0 \\le x \\le 2 \\\\\n",
    "    &\\\\\n",
    "    1 &\\quad \\text{if  }x > 2 \\\\\n",
    "\\end{cases}\n",
    "$\n",
    "\n",
    "## Teilaufgabe 6.1.2\n",
    "a) <br>\n",
    "$P(X = 0) = 0$ <br>\n",
    "b) <br>\n",
    "$P(X \\leq 1) = \\frac{1}{4} \\cdot 1^2 = \\frac{1}{4}$ <br>\n",
    "c) <br>\n",
    "$P(X \\geq 2) = 1 - P(X < 2) = 0$\n",
    "\n",
    "## Teilaufgabe 6.1.3\n",
    "\n"
   ],
   "metadata": {
    "collapsed": false
   },
   "id": "81b82f0aad722f92"
  },
  {
   "cell_type": "code",
   "outputs": [],
   "source": [],
   "metadata": {
    "collapsed": false
   },
   "id": "b088f48fd111ba3c"
  }
 ],
 "metadata": {
  "kernelspec": {
   "display_name": "Python 3",
   "language": "python",
   "name": "python3"
  },
  "language_info": {
   "codemirror_mode": {
    "name": "ipython",
    "version": 2
   },
   "file_extension": ".py",
   "mimetype": "text/x-python",
   "name": "python",
   "nbconvert_exporter": "python",
   "pygments_lexer": "ipython2",
   "version": "2.7.6"
  }
 },
 "nbformat": 4,
 "nbformat_minor": 5
}
