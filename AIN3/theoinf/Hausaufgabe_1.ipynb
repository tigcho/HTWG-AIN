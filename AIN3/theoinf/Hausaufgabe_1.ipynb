{
 "cells": [
  {
   "cell_type": "markdown",
   "source": [
    "# Hausaufgabe 1\n",
    "von Fabian Wolter, Selin Kabak und Dominik Nowara\n",
    "## Aufgabe 1.2\n",
    "a) $M_1=\\{1\\} \\Rightarrow \\mathcal{P}(M_1)=\\{\\{\\emptyset\\}, \\{1\\}\\} \\Rightarrow \\mid\\mathcal{P}(M_1)\\mid=2$\n",
    "b) $M_2=\\{0,1\\} \\Rightarrow \\mathcal{P}(M_2)=\\{\\{\\emptyset\\}, \\{0\\}, \\{1\\}, \\{0,1\\}\\} \\Rightarrow \\mid\\mathcal{P}(M_2)\\mid=4$\n",
    "c) $M_3=\\{a,b,c,...,z\\} \\Rightarrow \\mathcal{P}(M_3)=\\{\\{\\emptyset\\}, \\{a\\}, \\{b\\}, ..., \\{z\\}, \\{a,b\\}, \\{a,c\\}, ..., \\{y,z\\}, \\{a,b,c\\}, ..., \\{x,y,z\\}, ..., \\{a,b,c,...,z\\}\\} \\Rightarrow \\mid\\mathcal{P}(M_3)\\mid=2^{26}$\n",
    "d) $M_4=\\emptyset \\Rightarrow \\mathcal{P}(M_4)=\\{\\emptyset\\} \\Rightarrow \\mid\\mathcal{P}(M_4)\\mid=1$\n",
    "e) $M_5=\\{\\emptyset\\} \\Rightarrow \\mathcal{P}(M_5)=\\{\\{\\emptyset\\}\\} \\Rightarrow \\mid\\mathcal{P}(M_5)\\mid=1$  \n",
    "f) $M_6=\\mathbb{N} \\Rightarrow \\mathcal{P}(M_6)=\\{\\{\\emptyset\\}, \\{1\\}, \\{2\\}, ..., \\{1,2\\}, \\{1,3\\}, ..., \\{2,3\\}, ..., \\{1,2,3\\}, ..., \\{1,2,3,...\\}\\} \\Rightarrow \\mid\\mathcal{P}(M_6)\\mid=\\infty$\n",
    "## Aufgabe 1.7\n",
    "a) $h\\land f$\n",
    "b) $\\lnot h\\land f$\n",
    "c) $f\\Rightarrow h$\n",
    "d) $h\\oplus f$\n",
    "## Aufgabe 1.8\n",
    "a) Die Datenbank ist schnell und konsequent.\n",
    "b) Die Datenbank ist entweder schnell oder konsequent.\n",
    "c) Wenn die Datenbank schnell ist, dann ist sie nicht konsequent.\n",
    "d) Wenn die Datenbank nicht konsequent ist, dann ist sie schnell.\n",
    "## Aufgabe 1.13\n",
    "a) $\\forall x : L(x, \\text{Angela})$\n",
    "b) $\\forall x\\exists y : L(x,y)$\n",
    "c) $\\exists x\\forall y : L(y,x)$\n",
    "d) $\\forall x\\exists y : \\lnot L(y,x)$\n",
    "e) $\\forall x : L(x,x)$\n",
    "f) $\\exists x\\forall y : \\lnot L(x,y) \\land L(x,x)$\n",
    "## Aufgabe 1.9\n",
    "### Aufgabe 1.9.1\n",
    "Alice will nicht kommen, wenn Bob nicht kommt: $\\lnot B \\Rightarrow \\lnot A$\n",
    "Bob und Charlie kommen beide, oder kommen beide nicht: $(B \\land C) \\lor (\\lnot B \\land \\lnot C)$\n",
    "Wenn Alice und Bob beide nicht kommen, kommt Charlie : $\\lnot A \\land \\lnot B \\Rightarrow C$\n",
    "### Aufgabe 1.9.2\n",
    "a)<br>\n",
    "```\n",
    "A B C | (¬B ⇒ ¬A) | (B ∧ C) ∨ (¬B ∧ ¬C) | (¬A ∧ ¬B ⇒ C)\n",
    "0 0 0 |     1      |         1           |        0\n",
    "0 0 1 |     1      |         0           |        1\n",
    "0 1 0 |     1      |         0           |        1\n",
    "0 1 1 |     1      |         1           |        1\n",
    "1 0 0 |     0      |         1           |        1\n",
    "1 0 1 |     0      |         0           |        1\n",
    "1 1 0 |     1      |         0           |        1\n",
    "1 1 1 |     1      |         1           |        1\n",
    "```\n",
    "b)<br>\n",
    "Die Aussagen sind erfüllt, wenn Bob und Charlie beide kommen.\n",
    "### Aufgabe 1.9.3\n",
    "Ich denke, ChatGPT nimmt an, dass Charlie nur kommt, wenn Alice und Bob nicht kommen. Das ist nicht korrekt, da Charlie auch kommen kann, wenn Alice und Bob kommen."
   ],
   "metadata": {
    "collapsed": false
   },
   "id": "7dfaa4304e09076a"
  }
 ],
 "metadata": {
  "kernelspec": {
   "display_name": "Python 3",
   "language": "python",
   "name": "python3"
  },
  "language_info": {
   "codemirror_mode": {
    "name": "ipython",
    "version": 2
   },
   "file_extension": ".py",
   "mimetype": "text/x-python",
   "name": "python",
   "nbconvert_exporter": "python",
   "pygments_lexer": "ipython2",
   "version": "2.7.6"
  }
 },
 "nbformat": 4,
 "nbformat_minor": 5
}
