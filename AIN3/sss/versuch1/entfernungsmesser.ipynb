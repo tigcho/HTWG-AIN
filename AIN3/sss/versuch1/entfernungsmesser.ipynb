{
 "cells": [
  {
   "cell_type": "markdown",
   "source": [
    "von Fabian Wolter und Selin Kabak\n",
    "# Kalibrierung und Einsatz eines\n",
    "# Infrarot-Entfernungsmessers\n",
    "### Versuch 1, Praktikum Signale, Systeme und Sensoren"
   ],
   "metadata": {
    "collapsed": false
   },
   "id": "9d0f89c1e9e479a8"
  },
  {
   "cell_type": "code",
   "outputs": [],
   "source": [],
   "metadata": {
    "collapsed": false,
    "ExecuteTime": {
     "end_time": "2024-04-24T10:42:48.342793Z",
     "start_time": "2024-04-24T10:42:48.340734Z"
    }
   },
   "id": "d06f0d53d727e99",
   "execution_count": 0
  },
  {
   "cell_type": "code",
   "outputs": [],
   "source": [],
   "metadata": {
    "collapsed": false
   },
   "id": "9a32e229d19e4fb9"
  }
 ],
 "metadata": {
  "kernelspec": {
   "display_name": "Python 3",
   "language": "python",
   "name": "python3"
  },
  "language_info": {
   "codemirror_mode": {
    "name": "ipython",
    "version": 2
   },
   "file_extension": ".py",
   "mimetype": "text/x-python",
   "name": "python",
   "nbconvert_exporter": "python",
   "pygments_lexer": "ipython2",
   "version": "2.7.6"
  }
 },
 "nbformat": 4,
 "nbformat_minor": 5
}
