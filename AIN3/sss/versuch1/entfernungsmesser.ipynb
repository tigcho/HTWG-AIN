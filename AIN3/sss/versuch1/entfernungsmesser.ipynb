{
 "cells": [
  {
   "cell_type": "markdown",
   "source": [
    "von Fabian Wolter und Selin Kabak\n",
    "# Kalibrierung und Einsatz eines\n",
    "# Infrarot-Entfernungsmessers\n",
    "### Versuch 1, Praktikum Signale, Systeme und Sensoren"
   ],
   "metadata": {
    "collapsed": false
   },
   "id": "9d0f89c1e9e479a8"
  },
  {
   "cell_type": "markdown",
   "source": [
    "TODO (1)\n",
    ": Erstellen Sie eine Python-Funktion, welche die Daten aus der Datei einliest \n",
    "(verwenden Sie dazu die Numpy-Funktion genfromtxt()), von den Daten die ersten \n",
    "1000 Werte überspringt und aus den nächsten Werten (nehmen Sie eine sinnvolle \n",
    "Anzahl von Messungen) den Mittelwert und die Standardabweichung berechnet \n",
    "(der Einschwingvorgang wird dadurch ignoriert). Vergleichen Sie die Ergebnisse \n",
    "mit den Werten aus Ihrer gemessenen Tabelle. Stellen Sie die gefundene \n",
    "Übertragungsfunktion bzw. Kennlinie im Notebook graphisch mit Python bzw. Matplotlib dar. "
   ],
   "metadata": {
    "collapsed": false
   },
   "id": "852d7fd01b41ed4c"
  },
  {
   "cell_type": "code",
   "outputs": [],
   "source": [
    "import numpy as np\n",
    "import os\n",
    "import matplotlib.pyplot as plt\n",
    "\n",
    "def processData(file_path, skip_header=1000):\n",
    "    try:\n",
    "        data = np.genfromtxt(\n",
    "            file_path, \n",
    "            delimiter=';', \n",
    "            skip_header=skip_header,  \n",
    "            usecols=(1), \n",
    "            converters={1: lambda s: float(s.decode('utf-8').replace(',', '.'))}\n",
    "        )\n",
    "        mean = np.mean(data)\n",
    "        std = np.std(data)\n",
    "        return mean, std\n",
    "    except Exception as e:\n",
    "        print(f\"Fehler beim Einlesen\")\n",
    "\n",
    "directory = '/home/selin/HTWG-AIN/AIN3/sss/versuch1/data/'\n",
    "distance = np.arange(10, 70, 3)\n",
    "\n",
    "# Werte speichen\n",
    "means = []\n",
    "std_devs = []\n",
    "\n",
    "for dist in distance:\n",
    "    file_path = os.path.join(directory, f'{dist}cm.csv')\n",
    "    mean, std = processData(file_path)\n",
    "    \n",
    "    if mean is not None and std is not None:\n",
    "        means.append(mean)\n",
    "        std_devs.append(std)\n",
    "    else:\n",
    "        means.append(None)  # Fehlende Werte für fehlende Dateien\n",
    "        std_devs.append(None)\n",
    "\n",
    "# Plot des Mittelwerts\n",
    "plt.figure()\n",
    "plt.plot(distance, means, 'bo-', label='Mittelwert')\n",
    "plt.xlabel('Abstand in cm')\n",
    "plt.ylabel('Durchschnittliche Spannung in V')\n",
    "plt.title('Mittelwert der Spannung nach Abstand')\n",
    "plt.grid(True)\n",
    "plt.show()\n",
    "\n",
    "# Plot der Standardabweichung\n",
    "plt.figure()\n",
    "plt.plot(distance, std_devs, 'ro-', label='Standardabweichung')\n",
    "plt.xlabel('Abstand in cm')\n",
    "plt.ylabel('Standardabweichung der Spannung in V')\n",
    "plt.title('Standardabweichung der Spannung nach Abstand')\n",
    "plt.grid(True)\n",
    "plt.show()"
   ],
   "metadata": {
    "collapsed": false
   },
   "id": "f27145f19175daea",
   "execution_count": null
  },
  {
   "cell_type": "markdown",
   "source": [
    "### Probleme\n",
    "`Fehler beim Einlesen der Datei /home/selin/HTWG-AIN/AIN3/sss/versuch1/data/70.csv: a bytes-like object is required, not 'str'`\n",
    "`Fehler beim Finden mancher Dateien`"
   ],
   "metadata": {
    "collapsed": false
   },
   "id": "694941259cba1f80"
  }
 ],
 "metadata": {
  "kernelspec": {
   "display_name": "Python 3",
   "language": "python",
   "name": "python3"
  },
  "language_info": {
   "codemirror_mode": {
    "name": "ipython",
    "version": 2
   },
   "file_extension": ".py",
   "mimetype": "text/x-python",
   "name": "python",
   "nbconvert_exporter": "python",
   "pygments_lexer": "ipython2",
   "version": "2.7.6"
  }
 },
 "nbformat": 4,
 "nbformat_minor": 5
}
