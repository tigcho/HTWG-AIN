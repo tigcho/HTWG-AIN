{
 "cells": [
  {
   "metadata": {},
   "cell_type": "markdown",
   "source": [
    "von Fabian Wolter und Selin Kabak\n",
    "# Kalibrierung von Digitalkameras\n",
    "### Versuch 2, Praktikum Technische Grundlagen der angewandten Informatik"
   ],
   "id": "af7a42761b39ec49"
  },
  {
   "metadata": {},
   "cell_type": "markdown",
   "source": [
    "TODO (1) Aufnahme und Analyse eines Grauwertkeiles\n",
    ": \n",
    "- Speichern Sie das Bild für die Weiterverarbeitung und für das Notebook (Befehl: cv2.imwrite()) im verlustfreien Format png ab.\n",
    "- Schreiben Sie eine Routine, die das Bild einliest (Befehl: pyopencv.imread()) und die einzelnen Grauwertstufen als Unterbilder aus dem Originalbild ausliest.\n",
    "- Bestimmen Sie für jede Stufe den Mittelwert und die Standardabweichung der Grauwerte und tragen Sie diese in eine Tabelle ein."
   ],
   "id": "fefd5905357ecab1"
  },
  {
   "metadata": {},
   "cell_type": "code",
   "source": [
    "import cv2 as cv\n",
    "\n",
    "cap = cv.VideoCapture(0)\n",
    "print(cap.get(cv.CAP_PROP_EXPOSURE))\n",
    "while(True):\n",
    "    ret, frame = cap.read()\n",
    "    grayscale = cv.cvtColor(frame, cv.COLOR_BGR2GRAY)\n",
    "    hist = cv.calcHist([grayscale], [0], None, [256], [0, 256])\n",
    "    cv.imshow('Histogram', hist)\n",
    "    cv.imshow('Grayscale', grayscale)\n",
    "\n",
    "    if cv.waitKey(1) & 0xFF == ord('q'):\n",
    "        for i in range(0, 10):\n",
    "            ret, frame = cap.read()\n",
    "            grayscale = cv.cvtColor(frame, cv.COLOR_BGR2GRAY)\n",
    "            cv.imwrite(f'weiss/weissbild{i}.png', grayscale)\n",
    "            cv.waitKey(1)\n",
    "        break\n",
    "\n",
    "cap.release()\n",
    "cv.destroyAllWindows()"
   ],
   "id": "76d99a25cb4855d2",
   "outputs": [],
   "execution_count": null
  },
  {
   "metadata": {},
   "cell_type": "markdown",
   "source": [
    "TODO (2) Aufnahme eines Dunkelbildes\n",
    ": \n",
    "- Schreiben Sie eine Routine, die die 10 Bilder einliest, in double umwandelt, die Farbbilder in Grauwertbilder umrechnet und ihren pixelweisen Mittelwert berechnet. Stellen Sie das Dunkelbild kontrastmaximiert in Ihrem Notebook dar.\n",
    "- Schreiben Sie eine Routine, die das Dunkelbild einliest, von einem Eingabebild subtrahiert und das korrigierte Bild abspeichert."
   ],
   "id": "247b9614196713e8"
  },
  {
   "metadata": {},
   "cell_type": "code",
   "outputs": [],
   "execution_count": null,
   "source": [
    "import cv2 as cv\n",
    "\n",
    "image = []\n",
    "\n",
    "for i in range(0, 10):\n",
    "    image[i] = cv.imread(f'schwarz/schwarzbild{i}.png').astype(float)"
   ],
   "id": "cd9f643e4a9f5ea4"
  },
  {
   "metadata": {},
   "cell_type": "markdown",
   "source": [
    "TODO (3) Aufnahme eines Weissbildes\n",
    ": \n",
    "- Schreiben Sie eine Routine, die die 10 Bilder einliest, in double umwandelt, die Farbbilder in Grauwertbilder umrechnet und ihren pixelweisen Mittelwert berechnet. Stellen Sie das Dunkelbild kontrastmaximiert in Ihrem Notebook dar.\n",
    "- Schreiben Sie eine Routine, die das Dunkelbild einliest, von einem Eingabebild subtrahiert und das korrigierte Bild abspeichert."
   ],
   "id": "cc85c11eb429d753"
  },
  {
   "metadata": {},
   "cell_type": "code",
   "outputs": [],
   "execution_count": null,
   "source": "",
   "id": "1001bd3b2463771"
  }
 ],
 "metadata": {
  "kernelspec": {
   "display_name": "Python 3",
   "language": "python",
   "name": "python3"
  },
  "language_info": {
   "codemirror_mode": {
    "name": "ipython",
    "version": 2
   },
   "file_extension": ".py",
   "mimetype": "text/x-python",
   "name": "python",
   "nbconvert_exporter": "python",
   "pygments_lexer": "ipython2",
   "version": "2.7.6"
  }
 },
 "nbformat": 4,
 "nbformat_minor": 5
}
