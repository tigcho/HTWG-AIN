{
 "cells": [
  {
   "metadata": {},
   "cell_type": "markdown",
   "source": [
    "von Fabian Wolter und Selin Kabak\n",
    "# Fourieranalyse und Akustik\n",
    "### Versuch 3, Praktikum Signale, Systeme und Sensoren"
   ],
   "id": "dc9b2643a80eb857"
  },
  {
   "metadata": {},
   "cell_type": "code",
   "source": [
    "import numpy as np\n",
    "import matplotlib.pyplot as plt\n",
    "\n",
    "csv_file = \"/home/selin/HTWG-AIN/AIN3/sss/versuch3/AAAAA.csv\"\n",
    "data = np.genfromtxt(\n",
    "            csv_file, \n",
    "            delimiter=';',\n",
    "            usecols=[1], \n",
    "            # replace method needs a String, so convert bytes to string\n",
    "            converters={1: lambda s: float(s.decode('utf-8').replace(',', '.'))},\n",
    "        )\n",
    "\n",
    "plt.plot(data)\n",
    "plt.xlabel('Zeit in ms')\n",
    "plt.ylabel('Amplitude')\n",
    "plt.title('Signal')\n",
    "plt.show()"
   ],
   "id": "3709ad9b4fa59fd0",
   "outputs": [],
   "execution_count": null
  }
 ],
 "metadata": {
  "kernelspec": {
   "display_name": "Python 3",
   "language": "python",
   "name": "python3"
  },
  "language_info": {
   "codemirror_mode": {
    "name": "ipython",
    "version": 2
   },
   "file_extension": ".py",
   "mimetype": "text/x-python",
   "name": "python",
   "nbconvert_exporter": "python",
   "pygments_lexer": "ipython2",
   "version": "2.7.6"
  }
 },
 "nbformat": 4,
 "nbformat_minor": 5
}
