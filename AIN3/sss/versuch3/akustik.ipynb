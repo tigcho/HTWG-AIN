{
 "cells": [
  {
   "metadata": {},
   "cell_type": "markdown",
   "source": [
    "von Fabian Wolter und Selin Kabak\n",
    "# Fourieranalyse und Akustik\n",
    "### Versuch 3, Praktikum Signale, Systeme und Sensoren"
   ],
   "id": "dc9b2643a80eb857"
  },
  {
   "metadata": {},
   "cell_type": "code",
   "source": [
    "\n",
    "# • Berechnen Sie mithilfe der Funktion numpy.fft.fft() die Fouriertransformierte des\n",
    "# Signals. Bestimmen Sie daraus das Amplitudenspektrum und stellen es ebenfalls\n",
    "# graphisch dar. Achtung: die Frequenzachse des numerisch berechneten Spektrums ist\n",
    "# nicht in der Einheit Hertz angegeben, sondern in der Einheit Anzahl Schwingungen\n",
    "# innerhalb der gesamten Signaldauer, d.h. der n-te Eintrag im Spektrum f[n] entspricht\n",
    "# n Schwingungen innerhalb der Gesamtlänge des Signals von M · ∆t s. Die zugehörige\n",
    "#  f in Hertz berechnet sich folglich aus\n",
    "# f = n/M · ∆t \n",
    "# Stellen Sie mithilfe dieser Umrechnung das Amplitudenspektrum in Hertz dar.\n",
    "# • Identifizieren Sie die Grundfrequenz im Spektrum und berechnen Sie aus der gefundenen\n",
    "# Wellenzahl die Frequenz in Hz. Welche Amplitude hat diese Fourierkomponente?\n",
    "\n",
    "import numpy as np\n",
    "import matplotlib.pyplot as plt\n",
    "\n",
    "csv_file = \"/home/selin/HTWG-AIN/AIN3/sss/versuch3/AAAAA.csv\"\n",
    "data = np.genfromtxt(\n",
    "            csv_file, \n",
    "            delimiter=';',\n",
    "            usecols=[1], \n",
    "            # replace method needs a String, so convert bytes to string\n",
    "            converters={1: lambda s: float(s.decode('utf-8').replace(',', '.'))},\n",
    "        )\n",
    "\n",
    "# Stellen Sie das Signal graphisch in Ihrem Notebook dar. Bestimmen Sie anhand des\n",
    "# Plots die Grundperiode (in ms) und die Grundfrequenz (in Hz) des Signals. Wie\n",
    "# groß sind Signaldauer (in s), Abtastfrequenz (in Hz), Signallänge M (Anzahl der\n",
    "# Abtastzeitpunkte) und Abtastintervall ∆t (in s)?\n",
    "\n",
    "plt.plot(data)\n",
    "plt.xlabel('Zeit in ms')\n",
    "plt.ylabel('Amplitude')\n",
    "plt.title('Signal')\n",
    "plt.show()"
   ],
   "id": "3709ad9b4fa59fd0",
   "outputs": [],
   "execution_count": null
  }
 ],
 "metadata": {
  "kernelspec": {
   "display_name": "Python 3",
   "language": "python",
   "name": "python3"
  },
  "language_info": {
   "codemirror_mode": {
    "name": "ipython",
    "version": 2
   },
   "file_extension": ".py",
   "mimetype": "text/x-python",
   "name": "python",
   "nbconvert_exporter": "python",
   "pygments_lexer": "ipython2",
   "version": "2.7.6"
  }
 },
 "nbformat": 4,
 "nbformat_minor": 5
}
